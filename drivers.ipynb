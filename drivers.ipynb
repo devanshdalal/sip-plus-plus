{
 "cells": [
  {
   "cell_type": "code",
   "execution_count": 1,
   "metadata": {},
   "outputs": [],
   "source": [
    "from datetime import datetime"
   ]
  },
  {
   "cell_type": "code",
   "execution_count": 2,
   "metadata": {},
   "outputs": [],
   "source": [
    "# Variables almost remains constant\n",
    "debt_rate = 0.074 # percent"
   ]
  },
  {
   "cell_type": "code",
   "execution_count": 3,
   "metadata": {},
   "outputs": [],
   "source": [
    "class Parameters:\n",
    "    def __init__(self, **kwds):\n",
    "        self.__dict__.update(kwds)"
   ]
  },
  {
   "cell_type": "code",
   "execution_count": 4,
   "metadata": {},
   "outputs": [],
   "source": [
    "# Corpus with interface: deposit() and a withdraw() function \n",
    "class Corpus:\n",
    "    def __init__(self):\n",
    "        self._balance = 0\n",
    "        self._date = datetime(1990, 1, 1)\n",
    "\n",
    "    def Check(self, date):\n",
    "        if (date < self._date):\n",
    "            print(\"Date cannot be less than last account operation date\")\n",
    "            return False\n",
    "        return True"
   ]
  },
  {
   "cell_type": "code",
   "execution_count": 5,
   "metadata": {},
   "outputs": [],
   "source": [
    "# DebtCorpus with both a deposit() and a withdraw() function \n",
    "class DebtCorpus(Corpus):\n",
    "  \n",
    "    def Deposit(self, date, amount):\n",
    "        if (not self.Check(date)):\n",
    "            return False\n",
    "        delta = (date - self._date).days / 365.25\n",
    "        self._balance = amount + self._balance * pow(1 + debt_rate, delta)\n",
    "        self._date = date\n",
    "        return True\n",
    "    \n",
    "    def Get(self, date):\n",
    "        delta = (date - self._date).days / 365.25\n",
    "        self._balance = self._balance * pow(1 + debt_rate, delta)\n",
    "        self._date = date\n",
    "        return self._balance \n",
    "  \n",
    "    def Withdraw(self, date, amount): \n",
    "        if (not self.Check(date)):\n",
    "            return False\n",
    "        self.Get(date)\n",
    "        fulfilled = min(self._balance, amount)\n",
    "        if self._balance < amount:\n",
    "            print('Balance is lesser than requested amount', self._balance, amount)\n",
    "        self._balance -= fulfilled \n",
    "        return fulfilled"
   ]
  },
  {
   "cell_type": "code",
   "execution_count": 6,
   "metadata": {},
   "outputs": [],
   "source": [
    "# EquityCorpus with both a deposit() and a withdraw() function \n",
    "class EquityCorpus(Corpus):\n",
    "    def __init__(self, benchmark):\n",
    "        self._benchmark = benchmark\n",
    "        self._date = datetime(1990, 1, 1)\n",
    "        self._balance = 0\n",
    "    \n",
    "    def _NextDate(self, date):\n",
    "        return self._benchmark.index[self._benchmark.index >= date][0].to_pydatetime()\n",
    "    \n",
    "    def _Get(self, next_date):\n",
    "        returns = self._benchmark.loc[next_date]['Close'] / self._benchmark.loc[self._date]['Close']\n",
    "        self._balance = self._balance * returns\n",
    "        return self._balance\n",
    "  \n",
    "    def Deposit(self, date, amount):\n",
    "        next_date = self._NextDate(date)\n",
    "        if not self.Check(next_date):\n",
    "            return False\n",
    "        if 0 == self._balance:\n",
    "            self._balance = amount\n",
    "        else:\n",
    "            self._Get(next_date)\n",
    "            self._balance += amount\n",
    "        self._date = next_date\n",
    "        return True\n",
    "    \n",
    "    def Get(self, date):\n",
    "        next_date = self._NextDate(date)\n",
    "        r = self._Get(next_date)\n",
    "        self._date = next_date\n",
    "        return r\n",
    "    \n",
    "    def Withdraw(self, date, amount):\n",
    "        next_date = self._NextDate(date)\n",
    "        if not self.Check(next_date):\n",
    "            return False\n",
    "        self._Get(next_date)\n",
    "        self._date = next_date\n",
    "        fulfilled = min(self._balance, amount)\n",
    "        if self._balance < amount:\n",
    "            print('Balance is lesser than requested', self._balance, amount)\n",
    "        self._balance -= fulfilled\n",
    "        return fulfilled"
   ]
  }
 ],
 "metadata": {
  "kernelspec": {
   "display_name": "Python 3",
   "language": "python",
   "name": "python3"
  },
  "language_info": {
   "codemirror_mode": {
    "name": "ipython",
    "version": 3
   },
   "file_extension": ".py",
   "mimetype": "text/x-python",
   "name": "python",
   "nbconvert_exporter": "python",
   "pygments_lexer": "ipython3",
   "version": "3.7.5"
  }
 },
 "nbformat": 4,
 "nbformat_minor": 2
}
