{
 "cells": [
  {
   "cell_type": "code",
   "execution_count": 1,
   "metadata": {},
   "outputs": [],
   "source": [
    "from datetime import datetime"
   ]
  },
  {
   "cell_type": "code",
   "execution_count": 2,
   "metadata": {},
   "outputs": [],
   "source": [
    "# Variables almost remains constant\n",
    "debt_rate = 0.074 # percent"
   ]
  },
  {
   "cell_type": "code",
   "execution_count": 3,
   "metadata": {},
   "outputs": [],
   "source": [
    "class Parameters:\n",
    "    def __init__(self, **kwds):\n",
    "        self.__dict__.update(kwds)"
   ]
  },
  {
   "cell_type": "code",
   "execution_count": 4,
   "metadata": {},
   "outputs": [],
   "source": [
    "# Corpus with interface: deposit() and a withdraw() function \n",
    "class Corpus:\n",
    "    def __init__(self):\n",
    "        self._balance = 0\n",
    "        self._date = datetime(1990, 1, 1)\n",
    "\n",
    "    def Check(self, date):\n",
    "        if (date < self._date):\n",
    "            print(\"Date cannot be less than last account operation date\")\n",
    "            return False\n",
    "        return True"
   ]
  },
  {
   "cell_type": "code",
   "execution_count": 5,
   "metadata": {},
   "outputs": [],
   "source": [
    "# DebtCorpus with both a deposit() and a withdraw() function \n",
    "class DebtCorpus(Corpus):\n",
    "  \n",
    "    def Deposit(self, date, amount):\n",
    "        if (not self.Check(date)):\n",
    "            return False\n",
    "        delta = (date - self._date).days / 365.25\n",
    "        self._balance = amount + self._balance * pow(1 + debt_rate, delta)\n",
    "        self._date = date\n",
    "        return True\n",
    "    \n",
    "    def Get(self, date):\n",
    "        delta = (date - self._date).days / 365.25\n",
    "        self._balance = self._balance * pow(1 + debt_rate, delta)\n",
    "        self._date = date\n",
    "        return self._balance \n",
    "  \n",
    "    def Withdraw(self, date, amount): \n",
    "        if (not self.Check(date)):\n",
    "            return False\n",
    "        self.Get(date)\n",
    "        fulfilled = min(self._balance, amount)\n",
    "        if self._balance < amount:\n",
    "            print('DebtCorpus.Balance is lesser than requested amount', self._balance, amount)\n",
    "        self._balance -= fulfilled \n",
    "        return fulfilled"
   ]
  },
  {
   "cell_type": "code",
   "execution_count": 1,
   "metadata": {},
   "outputs": [
    {
     "ename": "NameError",
     "evalue": "name 'Corpus' is not defined",
     "output_type": "error",
     "traceback": [
      "\u001b[0;31m---------------------------------------------------------------------------\u001b[0m",
      "\u001b[0;31mNameError\u001b[0m                                 Traceback (most recent call last)",
      "\u001b[0;32m<ipython-input-1-0fbae2470d84>\u001b[0m in \u001b[0;36m<module>\u001b[0;34m\u001b[0m\n\u001b[1;32m      1\u001b[0m \u001b[0;31m# EquityCorpus with both a deposit() and a withdraw() function\u001b[0m\u001b[0;34m\u001b[0m\u001b[0;34m\u001b[0m\u001b[0;34m\u001b[0m\u001b[0m\n\u001b[0;32m----> 2\u001b[0;31m \u001b[0;32mclass\u001b[0m \u001b[0mEquityCorpus\u001b[0m\u001b[0;34m(\u001b[0m\u001b[0mCorpus\u001b[0m\u001b[0;34m)\u001b[0m\u001b[0;34m:\u001b[0m\u001b[0;34m\u001b[0m\u001b[0;34m\u001b[0m\u001b[0m\n\u001b[0m\u001b[1;32m      3\u001b[0m     \u001b[0;32mdef\u001b[0m \u001b[0m__init__\u001b[0m\u001b[0;34m(\u001b[0m\u001b[0mself\u001b[0m\u001b[0;34m,\u001b[0m \u001b[0mbenchmark\u001b[0m\u001b[0;34m)\u001b[0m\u001b[0;34m:\u001b[0m\u001b[0;34m\u001b[0m\u001b[0;34m\u001b[0m\u001b[0m\n\u001b[1;32m      4\u001b[0m         \u001b[0mself\u001b[0m\u001b[0;34m.\u001b[0m\u001b[0m_benchmark\u001b[0m \u001b[0;34m=\u001b[0m \u001b[0mbenchmark\u001b[0m\u001b[0;34m\u001b[0m\u001b[0;34m\u001b[0m\u001b[0m\n\u001b[1;32m      5\u001b[0m         \u001b[0mself\u001b[0m\u001b[0;34m.\u001b[0m\u001b[0m_date\u001b[0m \u001b[0;34m=\u001b[0m \u001b[0mdatetime\u001b[0m\u001b[0;34m(\u001b[0m\u001b[0;36m1990\u001b[0m\u001b[0;34m,\u001b[0m \u001b[0;36m1\u001b[0m\u001b[0;34m,\u001b[0m \u001b[0;36m1\u001b[0m\u001b[0;34m)\u001b[0m\u001b[0;34m\u001b[0m\u001b[0;34m\u001b[0m\u001b[0m\n",
      "\u001b[0;31mNameError\u001b[0m: name 'Corpus' is not defined"
     ]
    }
   ],
   "source": [
    "# EquityCorpus with both a deposit() and a withdraw() function \n",
    "class EquityCorpus(Corpus):\n",
    "    def __init__(self, benchmark):\n",
    "        self._benchmark = benchmark\n",
    "        self._date = datetime(1999, 1, 1)\n",
    "        self._balance = 0\n",
    "    \n",
    "    def _NextDate(self, date):\n",
    "        return self._benchmark.index[self._benchmark.index >= date][0].to_pydatetime()\n",
    "    \n",
    "    def _Get(self, next_date):\n",
    "        if (abs(self._balance) < 0.001):\n",
    "            return 0\n",
    "        returns = self._benchmark.loc[next_date]['Close'] / self._benchmark.loc[self._date]['Close']\n",
    "        self._balance = self._balance * returns\n",
    "        return self._balance\n",
    "  \n",
    "    def Deposit(self, date, amount):\n",
    "        next_date = self._NextDate(date)\n",
    "        if not self.Check(next_date):\n",
    "            return False\n",
    "        self._Get(next_date)\n",
    "        self._balance += amount\n",
    "        self._date = next_date\n",
    "        return True\n",
    "    \n",
    "    def Get(self, date):\n",
    "        next_date = self._NextDate(date)\n",
    "        r = self._Get(next_date)\n",
    "        self._date = next_date\n",
    "        return r\n",
    "    \n",
    "    def Withdraw(self, date, amount):\n",
    "        next_date = self._NextDate(date)\n",
    "        if not self.Check(next_date):\n",
    "            return False\n",
    "        self._Get(next_date)\n",
    "        self._date = next_date\n",
    "        fulfilled = min(self._balance, amount)\n",
    "        if self._balance < amount:\n",
    "            print('EquityCorpus.Balance is lesser than requested', self._balance, amount)\n",
    "        self._balance -= fulfilled\n",
    "        return fulfilled"
   ]
  }
 ],
 "metadata": {
  "kernelspec": {
   "display_name": "Python 3",
   "language": "python",
   "name": "python3"
  },
  "language_info": {
   "codemirror_mode": {
    "name": "ipython",
    "version": 3
   },
   "file_extension": ".py",
   "mimetype": "text/x-python",
   "name": "python",
   "nbconvert_exporter": "python",
   "pygments_lexer": "ipython3",
   "version": "3.7.5"
  }
 },
 "nbformat": 4,
 "nbformat_minor": 2
}
