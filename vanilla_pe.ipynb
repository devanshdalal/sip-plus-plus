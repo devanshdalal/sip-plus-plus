{
 "cells": [
  {
   "cell_type": "code",
   "execution_count": 1,
   "metadata": {},
   "outputs": [],
   "source": [
    "import glob\n",
    "import sys\n",
    "import os\n",
    "import pandas as pd\n",
    "import matplotlib.pyplot as plt\n",
    "from datetime import datetime\n",
    "plt.rcParams['figure.figsize'] = [14, 7]"
   ]
  },
  {
   "cell_type": "code",
   "execution_count": 2,
   "metadata": {},
   "outputs": [
    {
     "name": "stdout",
     "output_type": "stream",
     "text": [
      "importing Jupyter notebook from drivers.ipynb\n",
      "importing Jupyter notebook from prepare.ipynb\n"
     ]
    }
   ],
   "source": [
    "import import_ipynb\n",
    "import drivers\n",
    "import prepare"
   ]
  },
  {
   "cell_type": "code",
   "execution_count": 3,
   "metadata": {},
   "outputs": [],
   "source": [
    "nifty = prepare.MergedDf()"
   ]
  },
  {
   "cell_type": "code",
   "execution_count": 4,
   "metadata": {},
   "outputs": [
    {
     "data": {
      "text/html": [
       "<div>\n",
       "<style scoped>\n",
       "    .dataframe tbody tr th:only-of-type {\n",
       "        vertical-align: middle;\n",
       "    }\n",
       "\n",
       "    .dataframe tbody tr th {\n",
       "        vertical-align: top;\n",
       "    }\n",
       "\n",
       "    .dataframe thead th {\n",
       "        text-align: right;\n",
       "    }\n",
       "</style>\n",
       "<table border=\"1\" class=\"dataframe\">\n",
       "  <thead>\n",
       "    <tr style=\"text-align: right;\">\n",
       "      <th></th>\n",
       "      <th>Open</th>\n",
       "      <th>High</th>\n",
       "      <th>Low</th>\n",
       "      <th>Close</th>\n",
       "      <th>Shares Traded</th>\n",
       "      <th>Turnover (Rs. Cr)</th>\n",
       "      <th>P/E</th>\n",
       "      <th>P/B</th>\n",
       "      <th>Div Yield</th>\n",
       "    </tr>\n",
       "  </thead>\n",
       "  <tbody>\n",
       "    <tr>\n",
       "      <th>count</th>\n",
       "      <td>5225.000000</td>\n",
       "      <td>5225.000000</td>\n",
       "      <td>5225.000000</td>\n",
       "      <td>5225.000000</td>\n",
       "      <td>5.225000e+03</td>\n",
       "      <td>5225.000000</td>\n",
       "      <td>5225.000000</td>\n",
       "      <td>5225.000000</td>\n",
       "      <td>5225.000000</td>\n",
       "    </tr>\n",
       "    <tr>\n",
       "      <th>mean</th>\n",
       "      <td>4931.530211</td>\n",
       "      <td>4964.677742</td>\n",
       "      <td>4892.778804</td>\n",
       "      <td>4929.321809</td>\n",
       "      <td>1.515437e+08</td>\n",
       "      <td>6250.129768</td>\n",
       "      <td>19.882100</td>\n",
       "      <td>3.539041</td>\n",
       "      <td>1.419129</td>\n",
       "    </tr>\n",
       "    <tr>\n",
       "      <th>std</th>\n",
       "      <td>3247.573752</td>\n",
       "      <td>3256.301398</td>\n",
       "      <td>3231.571643</td>\n",
       "      <td>3243.876880</td>\n",
       "      <td>1.191109e+08</td>\n",
       "      <td>4840.834747</td>\n",
       "      <td>4.159403</td>\n",
       "      <td>0.798190</td>\n",
       "      <td>0.400195</td>\n",
       "    </tr>\n",
       "    <tr>\n",
       "      <th>min</th>\n",
       "      <td>853.000000</td>\n",
       "      <td>877.000000</td>\n",
       "      <td>849.950000</td>\n",
       "      <td>854.200000</td>\n",
       "      <td>1.394931e+06</td>\n",
       "      <td>40.120000</td>\n",
       "      <td>10.680000</td>\n",
       "      <td>1.920000</td>\n",
       "      <td>0.590000</td>\n",
       "    </tr>\n",
       "    <tr>\n",
       "      <th>25%</th>\n",
       "      <td>1667.450000</td>\n",
       "      <td>1688.250000</td>\n",
       "      <td>1644.400000</td>\n",
       "      <td>1668.750000</td>\n",
       "      <td>6.926587e+07</td>\n",
       "      <td>2620.680000</td>\n",
       "      <td>17.010000</td>\n",
       "      <td>3.020000</td>\n",
       "      <td>1.160000</td>\n",
       "    </tr>\n",
       "    <tr>\n",
       "      <th>50%</th>\n",
       "      <td>4877.850000</td>\n",
       "      <td>4930.250000</td>\n",
       "      <td>4833.050000</td>\n",
       "      <td>4875.050000</td>\n",
       "      <td>1.305892e+08</td>\n",
       "      <td>5462.340000</td>\n",
       "      <td>19.940000</td>\n",
       "      <td>3.470000</td>\n",
       "      <td>1.320000</td>\n",
       "    </tr>\n",
       "    <tr>\n",
       "      <th>75%</th>\n",
       "      <td>7588.550000</td>\n",
       "      <td>7635.550000</td>\n",
       "      <td>7532.450000</td>\n",
       "      <td>7580.200000</td>\n",
       "      <td>1.900432e+08</td>\n",
       "      <td>8149.000000</td>\n",
       "      <td>22.660000</td>\n",
       "      <td>3.800000</td>\n",
       "      <td>1.540000</td>\n",
       "    </tr>\n",
       "    <tr>\n",
       "      <th>max</th>\n",
       "      <td>12274.900000</td>\n",
       "      <td>12293.900000</td>\n",
       "      <td>12252.750000</td>\n",
       "      <td>12271.800000</td>\n",
       "      <td>1.414837e+09</td>\n",
       "      <td>54081.530000</td>\n",
       "      <td>29.900000</td>\n",
       "      <td>6.550000</td>\n",
       "      <td>3.180000</td>\n",
       "    </tr>\n",
       "  </tbody>\n",
       "</table>\n",
       "</div>"
      ],
      "text/plain": [
       "               Open          High           Low         Close  Shares Traded  \\\n",
       "count   5225.000000   5225.000000   5225.000000   5225.000000   5.225000e+03   \n",
       "mean    4931.530211   4964.677742   4892.778804   4929.321809   1.515437e+08   \n",
       "std     3247.573752   3256.301398   3231.571643   3243.876880   1.191109e+08   \n",
       "min      853.000000    877.000000    849.950000    854.200000   1.394931e+06   \n",
       "25%     1667.450000   1688.250000   1644.400000   1668.750000   6.926587e+07   \n",
       "50%     4877.850000   4930.250000   4833.050000   4875.050000   1.305892e+08   \n",
       "75%     7588.550000   7635.550000   7532.450000   7580.200000   1.900432e+08   \n",
       "max    12274.900000  12293.900000  12252.750000  12271.800000   1.414837e+09   \n",
       "\n",
       "       Turnover (Rs. Cr)          P/E          P/B    Div Yield  \n",
       "count        5225.000000  5225.000000  5225.000000  5225.000000  \n",
       "mean         6250.129768    19.882100     3.539041     1.419129  \n",
       "std          4840.834747     4.159403     0.798190     0.400195  \n",
       "min            40.120000    10.680000     1.920000     0.590000  \n",
       "25%          2620.680000    17.010000     3.020000     1.160000  \n",
       "50%          5462.340000    19.940000     3.470000     1.320000  \n",
       "75%          8149.000000    22.660000     3.800000     1.540000  \n",
       "max         54081.530000    29.900000     6.550000     3.180000  "
      ]
     },
     "execution_count": 4,
     "metadata": {},
     "output_type": "execute_result"
    }
   ],
   "source": [
    "nifty.describe()"
   ]
  },
  {
   "cell_type": "code",
   "execution_count": null,
   "metadata": {},
   "outputs": [],
   "source": []
  },
  {
   "cell_type": "code",
   "execution_count": 5,
   "metadata": {},
   "outputs": [
    {
     "data": {
      "text/plain": [
       "Open                      896.40\n",
       "High                      905.45\n",
       "Low                       895.75\n",
       "Close                     897.80\n",
       "Shares Traded        32224833.00\n",
       "Turnover (Rs. Cr)         811.39\n",
       "P/E                        11.72\n",
       "P/B                         2.08\n",
       "Div Yield                   1.81\n",
       "Name: 1999-01-04 00:00:00, dtype: float64"
      ]
     },
     "execution_count": 5,
     "metadata": {},
     "output_type": "execute_result"
    }
   ],
   "source": [
    "nifty.loc['1999-01-04']"
   ]
  },
  {
   "cell_type": "code",
   "execution_count": 6,
   "metadata": {},
   "outputs": [],
   "source": [
    "params = drivers.Parameters(monthly_sip=100,\n",
    "                            default_exposure=0.5,\n",
    "                            green_pe=18,\n",
    "                            greener_pe=14,\n",
    "                            red_pe=29,\n",
    "                            redder_pe=29)"
   ]
  },
  {
   "cell_type": "code",
   "execution_count": null,
   "metadata": {},
   "outputs": [],
   "source": []
  },
  {
   "cell_type": "code",
   "execution_count": null,
   "metadata": {},
   "outputs": [],
   "source": []
  },
  {
   "cell_type": "code",
   "execution_count": 7,
   "metadata": {},
   "outputs": [],
   "source": [
    "e = drivers.EquityCorpus(0)"
   ]
  },
  {
   "cell_type": "code",
   "execution_count": 8,
   "metadata": {},
   "outputs": [],
   "source": [
    "# debt = DebtCorpus()\n",
    "# print(debt.Deposit(datetime(2000, 1, 1), 100))\n",
    "# print(debt.Withdraw(datetime(2010, 1, 1), 100))\n",
    "# debt.Get(datetime(2020, 1, 1))\n",
    "\n",
    "\n",
    "# vanilla strategy with params\n",
    "\n",
    "# monthly_sip = 100\n",
    "# default_exposure = 0.5\n",
    "# green_pe = 15\n",
    "# red_pe = 28\n",
    "\n",
    "# Every month, invest monthly_sip * default_exposure in index and invest monthly_sip * (1 - default_exposure) in debt.\n",
    "# If nifty pe > red_pe, pull out all money from index to debt.\n",
    "# if nifty pe < green_pe, pull out all money from debt to index."
   ]
  },
  {
   "cell_type": "code",
   "execution_count": 9,
   "metadata": {},
   "outputs": [
    {
     "data": {
      "text/plain": [
       "datetime.datetime(2019, 12, 31, 0, 0)"
      ]
     },
     "execution_count": 9,
     "metadata": {},
     "output_type": "execute_result"
    }
   ],
   "source": [
    "nifty.index[-1].to_pydatetime()"
   ]
  },
  {
   "cell_type": "code",
   "execution_count": 10,
   "metadata": {},
   "outputs": [],
   "source": [
    "def EvaluateStrategy(df, params):\n",
    "    curr_month = -1\n",
    "    e = drivers.EquityCorpus(df)\n",
    "    d = drivers.DebtCorpus()\n",
    "    total_invested = 0;\n",
    "    for ind in df.index:\n",
    "        if ind.month != curr_month:\n",
    "            curr_month = ind.month\n",
    "            index_sip = params.monthly_sip * params.default_exposure\n",
    "            e.Deposit(ind, index_sip)\n",
    "            debt_sip = params.monthly_sip * (1 - params.default_exposure)\n",
    "            d.Deposit(ind, debt_sip)\n",
    "            total_invested += params.monthly_sip\n",
    "            current_pe = df['P/E'][ind]\n",
    "            if (current_pe < params.green_pe):\n",
    "                debt_funds = d.Get(ind)\n",
    "                d.Withdraw(ind, debt_funds)\n",
    "                e.Deposit(ind, debt_funds)\n",
    "            elif (current_pe > params.red_pe):\n",
    "                equity_funds = e.Get(ind)\n",
    "                e.Withdraw(ind, equity_funds)\n",
    "                d.Deposit(ind, equity_funds)\n",
    "    end_date = df.index[-1].to_pydatetime()\n",
    "    print('total_invested', total_invested, 'e.Get()', e.Get(end_date), 'd.Get()', d.Get(end_date))\n",
    "    "
   ]
  },
  {
   "cell_type": "code",
   "execution_count": 11,
   "metadata": {},
   "outputs": [
    {
     "name": "stdout",
     "output_type": "stream",
     "text": [
      "total_invested 25200 e.Get() 266.9844453634313 d.Get() 118062.59563482716\n"
     ]
    }
   ],
   "source": [
    "EvaluateStrategy(nifty, params)"
   ]
  }
 ],
 "metadata": {
  "kernelspec": {
   "display_name": "Python 3",
   "language": "python",
   "name": "python3"
  },
  "language_info": {
   "codemirror_mode": {
    "name": "ipython",
    "version": 3
   },
   "file_extension": ".py",
   "mimetype": "text/x-python",
   "name": "python",
   "nbconvert_exporter": "python",
   "pygments_lexer": "ipython3",
   "version": "3.7.5"
  }
 },
 "nbformat": 4,
 "nbformat_minor": 2
}
