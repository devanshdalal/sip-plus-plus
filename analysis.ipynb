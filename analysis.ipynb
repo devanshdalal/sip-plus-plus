{
 "cells": [
  {
   "cell_type": "code",
   "execution_count": 52,
   "metadata": {},
   "outputs": [],
   "source": [
    "import glob\n",
    "import pandas as pd\n",
    "import matplotlib.pyplot as plt\n",
    "plt.rcParams['figure.figsize'] = [14, 7]"
   ]
  },
  {
   "cell_type": "code",
   "execution_count": 93,
   "metadata": {},
   "outputs": [
    {
     "name": "stdout",
     "output_type": "stream",
     "text": [
      "2011.csv\n",
      "2012.csv\n",
      "2013.csv\n",
      "2014.csv\n",
      "2015.csv\n",
      "2016.csv\n",
      "2017.csv\n",
      "2018.csv\n",
      "2019.csv\n"
     ]
    }
   ],
   "source": [
    "# for f in glob.glob('nse/*.csv'):\n",
    "#     print(f)\n",
    "l = sorted(os.listdir('nse'))\n",
    "for f in l:\n",
    "    print(f)"
   ]
  },
  {
   "cell_type": "code",
   "execution_count": 97,
   "metadata": {},
   "outputs": [],
   "source": [
    "# Config options\n",
    "cwd = 'nse'"
   ]
  },
  {
   "cell_type": "code",
   "execution_count": 98,
   "metadata": {},
   "outputs": [],
   "source": [
    "nifty = pd.concat([pd.read_csv(cwd + '/' + f) for f in sorted(os.listdir(cwd))], ignore_index = True)"
   ]
  },
  {
   "cell_type": "code",
   "execution_count": 99,
   "metadata": {},
   "outputs": [
    {
     "data": {
      "text/html": [
       "<div>\n",
       "<style scoped>\n",
       "    .dataframe tbody tr th:only-of-type {\n",
       "        vertical-align: middle;\n",
       "    }\n",
       "\n",
       "    .dataframe tbody tr th {\n",
       "        vertical-align: top;\n",
       "    }\n",
       "\n",
       "    .dataframe thead th {\n",
       "        text-align: right;\n",
       "    }\n",
       "</style>\n",
       "<table border=\"1\" class=\"dataframe\">\n",
       "  <thead>\n",
       "    <tr style=\"text-align: right;\">\n",
       "      <th></th>\n",
       "      <th>Open</th>\n",
       "      <th>High</th>\n",
       "      <th>Low</th>\n",
       "      <th>Close</th>\n",
       "      <th>Shares Traded</th>\n",
       "      <th>Turnover (Rs. Cr)</th>\n",
       "    </tr>\n",
       "  </thead>\n",
       "  <tbody>\n",
       "    <tr>\n",
       "      <td>count</td>\n",
       "      <td>2157.000000</td>\n",
       "      <td>2157.000000</td>\n",
       "      <td>2157.000000</td>\n",
       "      <td>2157.000000</td>\n",
       "      <td>2.157000e+03</td>\n",
       "      <td>2157.000000</td>\n",
       "    </tr>\n",
       "    <tr>\n",
       "      <td>mean</td>\n",
       "      <td>7888.824200</td>\n",
       "      <td>7926.308530</td>\n",
       "      <td>7838.329694</td>\n",
       "      <td>7882.328581</td>\n",
       "      <td>2.010675e+08</td>\n",
       "      <td>9130.983635</td>\n",
       "    </tr>\n",
       "    <tr>\n",
       "      <td>std</td>\n",
       "      <td>2108.947982</td>\n",
       "      <td>2110.800172</td>\n",
       "      <td>2100.736612</td>\n",
       "      <td>2105.622145</td>\n",
       "      <td>9.692724e+07</td>\n",
       "      <td>4529.455523</td>\n",
       "    </tr>\n",
       "    <tr>\n",
       "      <td>min</td>\n",
       "      <td>4623.150000</td>\n",
       "      <td>4623.150000</td>\n",
       "      <td>4531.150000</td>\n",
       "      <td>4544.200000</td>\n",
       "      <td>6.555703e+06</td>\n",
       "      <td>297.890000</td>\n",
       "    </tr>\n",
       "    <tr>\n",
       "      <td>25%</td>\n",
       "      <td>5837.950000</td>\n",
       "      <td>5874.200000</td>\n",
       "      <td>5798.150000</td>\n",
       "      <td>5840.550000</td>\n",
       "      <td>1.405172e+08</td>\n",
       "      <td>6069.120000</td>\n",
       "    </tr>\n",
       "    <tr>\n",
       "      <td>50%</td>\n",
       "      <td>7959.850000</td>\n",
       "      <td>7992.000000</td>\n",
       "      <td>7922.800000</td>\n",
       "      <td>7954.900000</td>\n",
       "      <td>1.757243e+08</td>\n",
       "      <td>7819.050000</td>\n",
       "    </tr>\n",
       "    <tr>\n",
       "      <td>75%</td>\n",
       "      <td>9755.750000</td>\n",
       "      <td>9818.300000</td>\n",
       "      <td>9714.400000</td>\n",
       "      <td>9765.550000</td>\n",
       "      <td>2.309406e+08</td>\n",
       "      <td>10837.200000</td>\n",
       "    </tr>\n",
       "    <tr>\n",
       "      <td>max</td>\n",
       "      <td>12052.650000</td>\n",
       "      <td>12103.050000</td>\n",
       "      <td>12005.850000</td>\n",
       "      <td>12088.550000</td>\n",
       "      <td>7.411532e+08</td>\n",
       "      <td>35131.190000</td>\n",
       "    </tr>\n",
       "  </tbody>\n",
       "</table>\n",
       "</div>"
      ],
      "text/plain": [
       "               Open          High           Low         Close  Shares Traded  \\\n",
       "count   2157.000000   2157.000000   2157.000000   2157.000000   2.157000e+03   \n",
       "mean    7888.824200   7926.308530   7838.329694   7882.328581   2.010675e+08   \n",
       "std     2108.947982   2110.800172   2100.736612   2105.622145   9.692724e+07   \n",
       "min     4623.150000   4623.150000   4531.150000   4544.200000   6.555703e+06   \n",
       "25%     5837.950000   5874.200000   5798.150000   5840.550000   1.405172e+08   \n",
       "50%     7959.850000   7992.000000   7922.800000   7954.900000   1.757243e+08   \n",
       "75%     9755.750000   9818.300000   9714.400000   9765.550000   2.309406e+08   \n",
       "max    12052.650000  12103.050000  12005.850000  12088.550000   7.411532e+08   \n",
       "\n",
       "       Turnover (Rs. Cr)  \n",
       "count        2157.000000  \n",
       "mean         9130.983635  \n",
       "std          4529.455523  \n",
       "min           297.890000  \n",
       "25%          6069.120000  \n",
       "50%          7819.050000  \n",
       "75%         10837.200000  \n",
       "max         35131.190000  "
      ]
     },
     "execution_count": 99,
     "metadata": {},
     "output_type": "execute_result"
    }
   ],
   "source": [
    "nifty.describe()"
   ]
  },
  {
   "cell_type": "code",
   "execution_count": 100,
   "metadata": {},
   "outputs": [
    {
     "data": {
      "text/html": [
       "<div>\n",
       "<style scoped>\n",
       "    .dataframe tbody tr th:only-of-type {\n",
       "        vertical-align: middle;\n",
       "    }\n",
       "\n",
       "    .dataframe tbody tr th {\n",
       "        vertical-align: top;\n",
       "    }\n",
       "\n",
       "    .dataframe thead th {\n",
       "        text-align: right;\n",
       "    }\n",
       "</style>\n",
       "<table border=\"1\" class=\"dataframe\">\n",
       "  <thead>\n",
       "    <tr style=\"text-align: right;\">\n",
       "      <th></th>\n",
       "      <th>Date</th>\n",
       "      <th>Open</th>\n",
       "      <th>High</th>\n",
       "      <th>Low</th>\n",
       "      <th>Close</th>\n",
       "      <th>Shares Traded</th>\n",
       "      <th>Turnover (Rs. Cr)</th>\n",
       "    </tr>\n",
       "  </thead>\n",
       "  <tbody>\n",
       "    <tr>\n",
       "      <td>0</td>\n",
       "      <td>03-Jan-2011</td>\n",
       "      <td>6177.45</td>\n",
       "      <td>6178.55</td>\n",
       "      <td>6147.20</td>\n",
       "      <td>6157.60</td>\n",
       "      <td>96028639</td>\n",
       "      <td>4477.36</td>\n",
       "    </tr>\n",
       "    <tr>\n",
       "      <td>1</td>\n",
       "      <td>04-Jan-2011</td>\n",
       "      <td>6172.75</td>\n",
       "      <td>6181.05</td>\n",
       "      <td>6124.40</td>\n",
       "      <td>6146.35</td>\n",
       "      <td>181727905</td>\n",
       "      <td>7678.55</td>\n",
       "    </tr>\n",
       "    <tr>\n",
       "      <td>2</td>\n",
       "      <td>05-Jan-2011</td>\n",
       "      <td>6141.35</td>\n",
       "      <td>6141.35</td>\n",
       "      <td>6062.35</td>\n",
       "      <td>6079.80</td>\n",
       "      <td>139614193</td>\n",
       "      <td>6606.21</td>\n",
       "    </tr>\n",
       "    <tr>\n",
       "      <td>3</td>\n",
       "      <td>06-Jan-2011</td>\n",
       "      <td>6107.00</td>\n",
       "      <td>6116.15</td>\n",
       "      <td>6022.30</td>\n",
       "      <td>6048.25</td>\n",
       "      <td>152338978</td>\n",
       "      <td>7050.18</td>\n",
       "    </tr>\n",
       "    <tr>\n",
       "      <td>4</td>\n",
       "      <td>07-Jan-2011</td>\n",
       "      <td>6030.90</td>\n",
       "      <td>6051.20</td>\n",
       "      <td>5883.60</td>\n",
       "      <td>5904.60</td>\n",
       "      <td>171809106</td>\n",
       "      <td>8325.79</td>\n",
       "    </tr>\n",
       "  </tbody>\n",
       "</table>\n",
       "</div>"
      ],
      "text/plain": [
       "          Date     Open     High      Low    Close  Shares Traded  \\\n",
       "0  03-Jan-2011  6177.45  6178.55  6147.20  6157.60       96028639   \n",
       "1  04-Jan-2011  6172.75  6181.05  6124.40  6146.35      181727905   \n",
       "2  05-Jan-2011  6141.35  6141.35  6062.35  6079.80      139614193   \n",
       "3  06-Jan-2011  6107.00  6116.15  6022.30  6048.25      152338978   \n",
       "4  07-Jan-2011  6030.90  6051.20  5883.60  5904.60      171809106   \n",
       "\n",
       "   Turnover (Rs. Cr)  \n",
       "0            4477.36  \n",
       "1            7678.55  \n",
       "2            6606.21  \n",
       "3            7050.18  \n",
       "4            8325.79  "
      ]
     },
     "execution_count": 100,
     "metadata": {},
     "output_type": "execute_result"
    }
   ],
   "source": [
    "nifty.head()"
   ]
  },
  {
   "cell_type": "code",
   "execution_count": 101,
   "metadata": {},
   "outputs": [],
   "source": [
    "nifty[\"52 week high\"] = pd.Series.rolling(nifty.High, window=200, min_periods=1).max()\n",
    "nifty[\"52 week low\"] = pd.Series.rolling(nifty.Low, window=200, min_periods=1).min()"
   ]
  },
  {
   "cell_type": "code",
   "execution_count": 105,
   "metadata": {},
   "outputs": [
    {
     "data": {
      "text/plain": [
       "<matplotlib.axes._subplots.AxesSubplot at 0x7fb6e9ec7e80>"
      ]
     },
     "execution_count": 105,
     "metadata": {},
     "output_type": "execute_result"
    },
    {
     "data": {
      "image/png": "[encoded data removed]",
      "text/plain": [
       "<Figure size 1008x504 with 1 Axes>"
      ]
     },
     "metadata": {
      "needs_background": "light"
     },
     "output_type": "display_data"
    }
   ],
   "source": [
    "nifty[[\"52 week high\", \"52 week low\", \"Close\"]].plot()\n",
    "# nifty[[\"High\"]].plot()"
   ]
  },
  {
   "cell_type": "code",
   "execution_count": 106,
   "metadata": {
    "scrolled": true
   },
   "outputs": [
    {
     "name": "stdout",
     "output_type": "stream",
     "text": [
      "Fraction of times market is at highs: 0.09457579972183588\n",
      "Fraction of times market is at lows: 0.022253129346314324\n"
     ]
    }
   ],
   "source": [
    "highs = (nifty[\"52 week high\"] == nifty.High).value_counts()\n",
    "print(\"Fraction of times market is at highs:\", highs[True]/(highs[True] + highs[False]))\n",
    "lows = (nifty[\"52 week low\"] == nifty.Low).value_counts()\n",
    "print(\"Fraction of times market is at lows:\", lows[True]/(lows[True] + lows[False]))"
   ]
  }
 ],
 "metadata": {
  "kernelspec": {
   "display_name": "Python 3",
   "language": "python",
   "name": "python3"
  },
  "language_info": {
   "codemirror_mode": {
    "name": "ipython",
    "version": 3
   },
   "file_extension": ".py",
   "mimetype": "text/x-python",
   "name": "python",
   "nbconvert_exporter": "python",
   "pygments_lexer": "ipython3",
   "version": "3.6.8"
  }
 },
 "nbformat": 4,
 "nbformat_minor": 2
}
