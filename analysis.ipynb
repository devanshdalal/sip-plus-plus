{
 "cells": [
  {
   "cell_type": "code",
   "execution_count": 51,
   "metadata": {},
   "outputs": [],
   "source": [
    "import glob\n",
    "import sys\n",
    "import os\n",
    "import pandas as pd\n",
    "import matplotlib.pyplot as plt\n",
    "from datetime import datetime\n",
    "plt.rcParams['figure.figsize'] = [14, 7]"
   ]
  },
  {
   "cell_type": "code",
   "execution_count": 2,
   "metadata": {},
   "outputs": [],
   "source": [
    "# Config options\n",
    "cwd = 'nifty'"
   ]
  },
  {
   "cell_type": "code",
   "execution_count": 79,
   "metadata": {},
   "outputs": [],
   "source": [
    "dateparse = lambda x: pd.datetime.strptime(x, '%d-%b-%Y')\n",
    "nifty = pd.concat([pd.read_csv(cwd + '/' + f, parse_dates=['Date'], date_parser=dateparse) for f in sorted(os.listdir(cwd))], ignore_index = True)"
   ]
  },
  {
   "cell_type": "code",
   "execution_count": 65,
   "metadata": {},
   "outputs": [
    {
     "data": {
      "text/html": [
       "<div>\n",
       "<style scoped>\n",
       "    .dataframe tbody tr th:only-of-type {\n",
       "        vertical-align: middle;\n",
       "    }\n",
       "\n",
       "    .dataframe tbody tr th {\n",
       "        vertical-align: top;\n",
       "    }\n",
       "\n",
       "    .dataframe thead th {\n",
       "        text-align: right;\n",
       "    }\n",
       "</style>\n",
       "<table border=\"1\" class=\"dataframe\">\n",
       "  <thead>\n",
       "    <tr style=\"text-align: right;\">\n",
       "      <th></th>\n",
       "      <th>Open</th>\n",
       "      <th>High</th>\n",
       "      <th>Low</th>\n",
       "      <th>Close</th>\n",
       "      <th>Shares Traded</th>\n",
       "      <th>Turnover (Rs. Cr)</th>\n",
       "    </tr>\n",
       "  </thead>\n",
       "  <tbody>\n",
       "    <tr>\n",
       "      <td>count</td>\n",
       "      <td>4903.000000</td>\n",
       "      <td>4903.000000</td>\n",
       "      <td>4903.000000</td>\n",
       "      <td>4903.000000</td>\n",
       "      <td>4.903000e+03</td>\n",
       "      <td>4903.000000</td>\n",
       "    </tr>\n",
       "    <tr>\n",
       "      <td>mean</td>\n",
       "      <td>5028.744983</td>\n",
       "      <td>5062.516990</td>\n",
       "      <td>4989.049154</td>\n",
       "      <td>5026.400959</td>\n",
       "      <td>1.498470e+08</td>\n",
       "      <td>6290.407073</td>\n",
       "    </tr>\n",
       "    <tr>\n",
       "      <td>std</td>\n",
       "      <td>3138.698027</td>\n",
       "      <td>3146.534063</td>\n",
       "      <td>3123.482854</td>\n",
       "      <td>3134.811321</td>\n",
       "      <td>9.859852e+07</td>\n",
       "      <td>4425.010146</td>\n",
       "    </tr>\n",
       "    <tr>\n",
       "      <td>min</td>\n",
       "      <td>853.000000</td>\n",
       "      <td>877.000000</td>\n",
       "      <td>849.950000</td>\n",
       "      <td>854.200000</td>\n",
       "      <td>1.394931e+06</td>\n",
       "      <td>40.120000</td>\n",
       "    </tr>\n",
       "    <tr>\n",
       "      <td>25%</td>\n",
       "      <td>1919.050000</td>\n",
       "      <td>1942.400000</td>\n",
       "      <td>1901.650000</td>\n",
       "      <td>1918.425000</td>\n",
       "      <td>7.620246e+07</td>\n",
       "      <td>2958.745000</td>\n",
       "    </tr>\n",
       "    <tr>\n",
       "      <td>50%</td>\n",
       "      <td>5005.350000</td>\n",
       "      <td>5057.500000</td>\n",
       "      <td>4956.450000</td>\n",
       "      <td>5003.950000</td>\n",
       "      <td>1.345816e+08</td>\n",
       "      <td>5647.400000</td>\n",
       "    </tr>\n",
       "    <tr>\n",
       "      <td>75%</td>\n",
       "      <td>7633.225000</td>\n",
       "      <td>7676.725000</td>\n",
       "      <td>7580.650000</td>\n",
       "      <td>7619.150000</td>\n",
       "      <td>1.909097e+08</td>\n",
       "      <td>8186.865000</td>\n",
       "    </tr>\n",
       "    <tr>\n",
       "      <td>max</td>\n",
       "      <td>12052.650000</td>\n",
       "      <td>12103.050000</td>\n",
       "      <td>12005.850000</td>\n",
       "      <td>12088.550000</td>\n",
       "      <td>7.411532e+08</td>\n",
       "      <td>35131.190000</td>\n",
       "    </tr>\n",
       "  </tbody>\n",
       "</table>\n",
       "</div>"
      ],
      "text/plain": [
       "               Open          High           Low         Close  Shares Traded  \\\n",
       "count   4903.000000   4903.000000   4903.000000   4903.000000   4.903000e+03   \n",
       "mean    5028.744983   5062.516990   4989.049154   5026.400959   1.498470e+08   \n",
       "std     3138.698027   3146.534063   3123.482854   3134.811321   9.859852e+07   \n",
       "min      853.000000    877.000000    849.950000    854.200000   1.394931e+06   \n",
       "25%     1919.050000   1942.400000   1901.650000   1918.425000   7.620246e+07   \n",
       "50%     5005.350000   5057.500000   4956.450000   5003.950000   1.345816e+08   \n",
       "75%     7633.225000   7676.725000   7580.650000   7619.150000   1.909097e+08   \n",
       "max    12052.650000  12103.050000  12005.850000  12088.550000   7.411532e+08   \n",
       "\n",
       "       Turnover (Rs. Cr)  \n",
       "count        4903.000000  \n",
       "mean         6290.407073  \n",
       "std          4425.010146  \n",
       "min            40.120000  \n",
       "25%          2958.745000  \n",
       "50%          5647.400000  \n",
       "75%          8186.865000  \n",
       "max         35131.190000  "
      ]
     },
     "execution_count": 65,
     "metadata": {},
     "output_type": "execute_result"
    }
   ],
   "source": [
    "nifty.describe()"
   ]
  },
  {
   "cell_type": "code",
   "execution_count": 70,
   "metadata": {},
   "outputs": [
    {
     "data": {
      "text/plain": [
       "Date                 datetime64[ns]\n",
       "Open                        float64\n",
       "High                        float64\n",
       "Low                         float64\n",
       "Close                       float64\n",
       "Shares Traded                 int64\n",
       "Turnover (Rs. Cr)           float64\n",
       "dtype: object"
      ]
     },
     "execution_count": 70,
     "metadata": {},
     "output_type": "execute_result"
    }
   ],
   "source": [
    "nifty.dtypes"
   ]
  },
  {
   "cell_type": "code",
   "execution_count": 71,
   "metadata": {},
   "outputs": [
    {
     "data": {
      "text/html": [
       "<div>\n",
       "<style scoped>\n",
       "    .dataframe tbody tr th:only-of-type {\n",
       "        vertical-align: middle;\n",
       "    }\n",
       "\n",
       "    .dataframe tbody tr th {\n",
       "        vertical-align: top;\n",
       "    }\n",
       "\n",
       "    .dataframe thead th {\n",
       "        text-align: right;\n",
       "    }\n",
       "</style>\n",
       "<table border=\"1\" class=\"dataframe\">\n",
       "  <thead>\n",
       "    <tr style=\"text-align: right;\">\n",
       "      <th></th>\n",
       "      <th>Date</th>\n",
       "      <th>Open</th>\n",
       "      <th>High</th>\n",
       "      <th>Low</th>\n",
       "      <th>Close</th>\n",
       "      <th>Shares Traded</th>\n",
       "      <th>Turnover (Rs. Cr)</th>\n",
       "    </tr>\n",
       "  </thead>\n",
       "  <tbody>\n",
       "    <tr>\n",
       "      <td>0</td>\n",
       "      <td>2000-01-03</td>\n",
       "      <td>1482.15</td>\n",
       "      <td>1592.90</td>\n",
       "      <td>1482.15</td>\n",
       "      <td>1592.2</td>\n",
       "      <td>25358322</td>\n",
       "      <td>884.15</td>\n",
       "    </tr>\n",
       "    <tr>\n",
       "      <td>1</td>\n",
       "      <td>2000-01-04</td>\n",
       "      <td>1594.40</td>\n",
       "      <td>1641.95</td>\n",
       "      <td>1594.40</td>\n",
       "      <td>1638.7</td>\n",
       "      <td>38787872</td>\n",
       "      <td>1973.69</td>\n",
       "    </tr>\n",
       "    <tr>\n",
       "      <td>2</td>\n",
       "      <td>2000-01-05</td>\n",
       "      <td>1634.55</td>\n",
       "      <td>1635.50</td>\n",
       "      <td>1555.05</td>\n",
       "      <td>1595.8</td>\n",
       "      <td>62153431</td>\n",
       "      <td>3084.79</td>\n",
       "    </tr>\n",
       "    <tr>\n",
       "      <td>3</td>\n",
       "      <td>2000-01-06</td>\n",
       "      <td>1595.80</td>\n",
       "      <td>1639.00</td>\n",
       "      <td>1595.80</td>\n",
       "      <td>1617.6</td>\n",
       "      <td>51272875</td>\n",
       "      <td>2531.18</td>\n",
       "    </tr>\n",
       "    <tr>\n",
       "      <td>4</td>\n",
       "      <td>2000-01-07</td>\n",
       "      <td>1616.60</td>\n",
       "      <td>1628.25</td>\n",
       "      <td>1597.20</td>\n",
       "      <td>1613.3</td>\n",
       "      <td>54315945</td>\n",
       "      <td>1914.63</td>\n",
       "    </tr>\n",
       "  </tbody>\n",
       "</table>\n",
       "</div>"
      ],
      "text/plain": [
       "        Date     Open     High      Low   Close  Shares Traded  \\\n",
       "0 2000-01-03  1482.15  1592.90  1482.15  1592.2       25358322   \n",
       "1 2000-01-04  1594.40  1641.95  1594.40  1638.7       38787872   \n",
       "2 2000-01-05  1634.55  1635.50  1555.05  1595.8       62153431   \n",
       "3 2000-01-06  1595.80  1639.00  1595.80  1617.6       51272875   \n",
       "4 2000-01-07  1616.60  1628.25  1597.20  1613.3       54315945   \n",
       "\n",
       "   Turnover (Rs. Cr)  \n",
       "0             884.15  \n",
       "1            1973.69  \n",
       "2            3084.79  \n",
       "3            2531.18  \n",
       "4            1914.63  "
      ]
     },
     "execution_count": 71,
     "metadata": {},
     "output_type": "execute_result"
    }
   ],
   "source": [
    "nifty.head()"
   ]
  },
  {
   "cell_type": "code",
   "execution_count": 80,
   "metadata": {},
   "outputs": [],
   "source": [
    "nifty = nifty.set_index('Date')"
   ]
  },
  {
   "cell_type": "code",
   "execution_count": 117,
   "metadata": {},
   "outputs": [
    {
     "name": "stdout",
     "output_type": "stream",
     "text": [
      "2000-01-03 00:00:00\n",
      "2000-01-04 00:00:00\n",
      "2000-01-05 00:00:00\n",
      "2000-01-06 00:00:00\n",
      "2000-01-07 00:00:00\n",
      "2000-01-10 00:00:00\n",
      "equal\n",
      "2000-01-11 00:00:00\n",
      "2000-01-12 00:00:00\n",
      "2000-01-13 00:00:00\n",
      "2000-01-14 00:00:00\n"
     ]
    },
    {
     "data": {
      "text/plain": [
       "Timestamp('2019-09-19 00:00:00')"
      ]
     },
     "execution_count": 117,
     "metadata": {},
     "output_type": "execute_result"
    }
   ],
   "source": [
    "for i in nifty.index[:10]:\n",
    "    if (i.month==1 and i.day==11):\n",
    "        print('equal')\n",
    "    print(i)\n",
    "nifty[datetime(2001,1,3):datetime(2001,1,3)]"
   ]
  },
  {
   "cell_type": "code",
   "execution_count": 87,
   "metadata": {},
   "outputs": [],
   "source": [
    "nifty[\"52 week high\"] = pd.Series.rolling(nifty.High, window=200, min_periods=1).max()\n",
    "nifty[\"52 week low\"] = pd.Series.rolling(nifty.Low, window=200, min_periods=1).min()"
   ]
  },
  {
   "cell_type": "code",
   "execution_count": 88,
   "metadata": {},
   "outputs": [
    {
     "data": {
      "text/plain": [
       "<matplotlib.axes._subplots.AxesSubplot at 0x7ff98aa50358>"
      ]
     },
     "execution_count": 88,
     "metadata": {},
     "output_type": "execute_result"
    },
    {
     "data": {
      "image/png": "[encoded data removed]",
      "text/plain": [
       "<Figure size 1008x504 with 1 Axes>"
      ]
     },
     "metadata": {
      "needs_background": "light"
     },
     "output_type": "display_data"
    }
   ],
   "source": [
    "nifty[[\"52 week high\", \"52 week low\", \"Close\"]].plot()\n",
    "# nifty[[\"High\"]].plot()"
   ]
  },
  {
   "cell_type": "code",
   "execution_count": 89,
   "metadata": {
    "scrolled": true
   },
   "outputs": [
    {
     "name": "stdout",
     "output_type": "stream",
     "text": [
      "Fraction of times market is at highs: 0.11054456455231491\n",
      "Fraction of times market is at lows: 0.016724454415663878\n"
     ]
    }
   ],
   "source": [
    "highs = (nifty[\"52 week high\"] == nifty.High).value_counts()\n",
    "print(\"Fraction of times market is at highs:\", highs[True]/(highs[True] + highs[False]))\n",
    "lows = (nifty[\"52 week low\"] == nifty.Low).value_counts()\n",
    "print(\"Fraction of times market is at lows:\", lows[True]/(lows[True] + lows[False]))"
   ]
  },
  {
   "cell_type": "code",
   "execution_count": 170,
   "metadata": {},
   "outputs": [],
   "source": [
    "class Parameters:\n",
    "    def __init__(self, **kwds):\n",
    "        self.__dict__.update(kwds)\n",
    "params = Parameters(bear_delta=5, bear_percent=4, bear_ndays=100)"
   ]
  },
  {
   "cell_type": "code",
   "execution_count": 91,
   "metadata": {},
   "outputs": [],
   "source": [
    "# Variables almost remaining constants\n",
    "debt_rate = 0.074 # percent"
   ]
  },
  {
   "cell_type": "code",
   "execution_count": 173,
   "metadata": {},
   "outputs": [],
   "source": [
    "# DebtCorpus with both a deposit() and a withdraw() function \n",
    "class DebtCorpus: \n",
    "    def __init__(self): \n",
    "        self.balance = 0\n",
    "        self.date = datetime(1990, 1, 1)\n",
    "\n",
    "    def Check(self, date):\n",
    "        if (date < self.date):\n",
    "            print(\"Date cannot be less than last account operation date\")\n",
    "            return False\n",
    "        return True\n",
    "  \n",
    "    def Deposit(self, date, amount):\n",
    "        if (self.Check(date) == False):\n",
    "            return False\n",
    "        delta = (date - self.date).days / 365.25\n",
    "        self.balance = amount + self.balance * pow(1 + debt_rate, delta)\n",
    "        self.date = date\n",
    "        return True\n",
    "  \n",
    "    def Withdraw(self, date, amount): \n",
    "        if (self.Check(date) == False):\n",
    "            return False\n",
    "        delta = (date - self.date).days / 365.25\n",
    "        self.balance = self.balance * pow(1 + debt_rate, delta)\n",
    "        self.date = date\n",
    "        fulfilled = min(self.balance, amount)\n",
    "        if self.balance <= amount:\n",
    "            print('Balance is lesser than requested', self.balance, amount)\n",
    "        self.balance -= fulfilled \n",
    "        return fulfilled\n",
    "  \n",
    "    def Get(self, date):\n",
    "        delta = (date - self.date).days / 365.25\n",
    "        self.balance = self.balance * pow(1 + debt_rate, delta)\n",
    "        self.date = date\n",
    "        return self.balance "
   ]
  },
  {
   "cell_type": "code",
   "execution_count": 161,
   "metadata": {},
   "outputs": [
    {
     "name": "stdout",
     "output_type": "stream",
     "text": [
      "True\n",
      "100\n"
     ]
    },
    {
     "data": {
      "text/plain": [
       "212.77761431538931"
      ]
     },
     "execution_count": 161,
     "metadata": {},
     "output_type": "execute_result"
    }
   ],
   "source": [
    "# debt = DebtCorpus()\n",
    "# print(debt.Deposit(datetime(2000, 1, 1), 100))\n",
    "# print(debt.Withdraw(datetime(2010, 1, 1), 100))\n",
    "# debt.Get(datetime(2020, 1, 1))"
   ]
  },
  {
   "cell_type": "code",
   "execution_count": 176,
   "metadata": {},
   "outputs": [],
   "source": [
    "def EvaluateStrategy(df, params, pa = 100):\n",
    "    naive_sips, curr_year = [], 0\n",
    "    equity_investments = []\n",
    "    debt_corpus = DebtCorpus()\n",
    "    total_invested = 0\n",
    "    min_chkpts = []\n",
    "    bear_delta = params.bear_delta\n",
    "    bear_percent = params.bear_percent\n",
    "    nifty[\"bear_ndays\"] = pd.Series.rolling(nifty.Low, window=params.bear_ndays, min_periods=1).min()\n",
    "    for ind in df.index:\n",
    "        if (naive_sips == [] or curr_year < ind.year):\n",
    "            total_invested += pa\n",
    "            naive_sips.append((ind, df.Close[0], pa))\n",
    "            debt_corpus.Deposit(ind, pa)\n",
    "            curr_year = ind.year\n",
    "        if (df[\"bear_ndays\"][ind] == df.Low[ind]):\n",
    "            if (min_chkpts == []):\n",
    "                min_chkpts = [ind]\n",
    "            if (df.Close[ind] < (1 - bear_percent/100.0) * df.Close[min_chkpts[-1]]):\n",
    "                min_chkpts.append(ind)\n",
    "                if (len(min_chkpts)%2 == 0):\n",
    "                    bear_delta = bear_delta * 2\n",
    "                # Make investment\n",
    "                amount = debt_corpus.Withdraw(ind, bear_delta)\n",
    "                if (amount>0):\n",
    "                    equity_investments.append((df.Close[ind], amount))\n",
    "                    print (ind, df.Close[ind], amount, (1 - bear_percent/100.0))\n",
    "    print(\"total_invested\", total_invested)\n",
    "    # Calculate the final profits\n",
    "    index_close = df.Close.iloc[-1]\n",
    "    equity_amount, equity_invested = 0, 0\n",
    "    for i in equity_investments:\n",
    "        equity_invested += i[1]\n",
    "        equity_amount += i[1] * index_close / i[0]\n",
    "    print('equity_amount:', equity_amount)\n",
    "    print('equity_invested:', equity_invested)\n",
    "    print(\"Equity returns:\", equity_amount/equity_invested)\n",
    "    debt_amount = debt_corpus.Get(df.index[-1])\n",
    "    print('debt_amount:', debt_amount)\n",
    "    overall_amount = debt_amount + equity_amount\n",
    "    print(\"Overall returns:\", overall_amount/total_invested)\n",
    "    sip_amount = 0\n",
    "    for i in naive_sips:\n",
    "        print(i[2], index_close, i[1])\n",
    "        sip_amount += i[2] * index_close / i[1]\n",
    "    print(\"Naive SIP returns:\", sip_amount / total_invested)\n",
    "    # CAGR = [ (Ending value/Beginning Value)^(1/N) ] - 1"
   ]
  },
  {
   "cell_type": "code",
   "execution_count": 178,
   "metadata": {},
   "outputs": [
    {
     "name": "stdout",
     "output_type": "stream",
     "text": [
      "2000-04-04 00:00:00 1428.1 10 0.96\n",
      "2000-04-25 00:00:00 1359.45 10 0.96\n",
      "2000-05-15 00:00:00 1299.25 20 0.96\n",
      "2000-05-23 00:00:00 1224.4 20 0.96\n",
      "2000-10-17 00:00:00 1158.05 40 0.96\n",
      "2001-04-10 00:00:00 1103.05 40 0.96\n",
      "Balance is lesser than requested 65.96764728036544 80\n",
      "2001-04-12 00:00:00 1024.9 65.96764728036544 0.96\n",
      "Balance is lesser than requested 0.0 80\n",
      "Balance is lesser than requested 0.0 160\n",
      "Balance is lesser than requested 0.0 160\n",
      "total_invested 2000\n",
      "equity_amount: 1940.2998688468788\n",
      "equity_invested: 205.96764728036544\n",
      "Equity returns: 9.420410896890623\n",
      "debt_amount: 3717.814819874003\n",
      "Overall returns: 2.8290573443604408\n",
      "100 10704.8 1592.2\n",
      "100 10704.8 1592.2\n",
      "100 10704.8 1592.2\n",
      "100 10704.8 1592.2\n",
      "100 10704.8 1592.2\n",
      "100 10704.8 1592.2\n",
      "100 10704.8 1592.2\n",
      "100 10704.8 1592.2\n",
      "100 10704.8 1592.2\n",
      "100 10704.8 1592.2\n",
      "100 10704.8 1592.2\n",
      "100 10704.8 1592.2\n",
      "100 10704.8 1592.2\n",
      "100 10704.8 1592.2\n",
      "100 10704.8 1592.2\n",
      "100 10704.8 1592.2\n",
      "100 10704.8 1592.2\n",
      "100 10704.8 1592.2\n",
      "100 10704.8 1592.2\n",
      "100 10704.8 1592.2\n",
      "Naive SIP returns: 6.723275970355481\n"
     ]
    }
   ],
   "source": [
    "EvaluateStrategy(nifty, params)"
   ]
  }
 ],
 "metadata": {
  "kernelspec": {
   "display_name": "Python 3",
   "language": "python",
   "name": "python3"
  },
  "language_info": {
   "codemirror_mode": {
    "name": "ipython",
    "version": 3
   },
   "file_extension": ".py",
   "mimetype": "text/x-python",
   "name": "python",
   "nbconvert_exporter": "python",
   "pygments_lexer": "ipython3",
   "version": "3.6.8"
  }
 },
 "nbformat": 4,
 "nbformat_minor": 2
}
